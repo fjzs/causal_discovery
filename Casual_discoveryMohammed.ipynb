{
 "cells": [
  {
   "cell_type": "code",
   "execution_count": 22,
   "id": "d695c40f",
   "metadata": {},
   "outputs": [],
   "source": [
    "from pgmpy.estimators import PC\n",
    "import matplotlib.pyplot as plt\n",
    "import networkx as nx\n",
    "import pandas as pd \n",
    "import numpy as np "
   ]
  },
  {
   "cell_type": "code",
   "execution_count": 23,
   "id": "1ea099b1",
   "metadata": {},
   "outputs": [
    {
     "name": "stdout",
     "output_type": "stream",
     "text": [
      "    work_year experience_level employment_type                  job_title  \\\n",
      "12       2024               MI              FT               Data Analyst   \n",
      "13       2024               MI              FT               Data Analyst   \n",
      "22       2024               SE              FT  Machine Learning Engineer   \n",
      "23       2024               SE              FT  Machine Learning Engineer   \n",
      "24       2024               MI              FT             Data Scientist   \n",
      "\n",
      "    salary salary_currency  salary_in_usd employee_residence  remote_ratio  \\\n",
      "12  112300             USD         112300                 US             0   \n",
      "13   75100             USD          75100                 US             0   \n",
      "22  190000             USD         190000                 US             0   \n",
      "23  100000             USD         100000                 US             0   \n",
      "24  150650             USD         150650                 US             0   \n",
      "\n",
      "   company_location company_size  \n",
      "12               US            M  \n",
      "13               US            M  \n",
      "22               US            M  \n",
      "23               US            M  \n",
      "24               US            M  \n"
     ]
    }
   ],
   "source": [
    "df = pd.read_csv('salaries.csv')\n",
    "filtered_df = df[\n",
    "    (df['work_year'].isin([2023, 2024])) & \n",
    "    (df['experience_level'].isin(['MI', 'SE'])) & \n",
    "    (df['employment_type'] == 'FT') & \n",
    "    (df['company_size'].isin(['L', 'M'])) & \n",
    "    (df['job_title'].isin(['Data Engineer', 'Data Scientist', 'Data Analyst', 'Machine Learning Engineer'])) & \n",
    "    (df['company_location'] == 'US') & \n",
    "    (df['employee_residence'] == 'US')\n",
    "]\n",
    "df = filtered_df\n",
    "print (df.head(5))"
   ]
  },
  {
   "cell_type": "code",
   "execution_count": 24,
   "id": "bc1ee20a",
   "metadata": {},
   "outputs": [
    {
     "name": "stdout",
     "output_type": "stream",
     "text": [
      "      work_year  experience_level  employment_type  job_title  \\\n",
      "0           1.0               0.0              0.0        0.0   \n",
      "1           1.0               0.0              0.0        0.0   \n",
      "2           1.0               1.0              0.0        3.0   \n",
      "3           1.0               1.0              0.0        3.0   \n",
      "4           1.0               0.0              0.0        2.0   \n",
      "...         ...               ...              ...        ...   \n",
      "7640        0.0               0.0              0.0        0.0   \n",
      "7641        0.0               1.0              0.0        3.0   \n",
      "7642        0.0               1.0              0.0        3.0   \n",
      "7643        0.0               0.0              0.0        2.0   \n",
      "7644        0.0               0.0              0.0        2.0   \n",
      "\n",
      "      employee_residence  company_location  company_size  \n",
      "0                    0.0               0.0           1.0  \n",
      "1                    0.0               0.0           1.0  \n",
      "2                    0.0               0.0           1.0  \n",
      "3                    0.0               0.0           1.0  \n",
      "4                    0.0               0.0           1.0  \n",
      "...                  ...               ...           ...  \n",
      "7640                 0.0               0.0           1.0  \n",
      "7641                 0.0               0.0           0.0  \n",
      "7642                 0.0               0.0           0.0  \n",
      "7643                 0.0               0.0           1.0  \n",
      "7644                 0.0               0.0           1.0  \n",
      "\n",
      "[7645 rows x 7 columns]\n"
     ]
    }
   ],
   "source": [
    "from sklearn.preprocessing import OrdinalEncoder\n",
    "\n",
    "categorical_columns = ['work_year', 'experience_level', 'employment_type', 'job_title', 'employee_residence', 'company_location', 'company_size']\n",
    "\n",
    "\n",
    "ordinal_encoder = OrdinalEncoder()\n",
    "df[categorical_columns] = ordinal_encoder.fit_transform(df[categorical_columns])\n",
    "encoded_values = ordinal_encoder.fit_transform(df[categorical_columns])\n",
    "encoded_df = pd.DataFrame(encoded_values, columns=categorical_columns)\n",
    "print(encoded_df)"
   ]
  },
  {
   "cell_type": "markdown",
   "id": "6edf6d48",
   "metadata": {},
   "source": [
    "# We apply the PC algorithm to identify potential causal relationships in our data, resulting in a Directed Acyclic Graph (DAG)."
   ]
  },
  {
   "cell_type": "code",
   "execution_count": 25,
   "id": "f6df9284",
   "metadata": {},
   "outputs": [
    {
     "data": {
      "application/vnd.jupyter.widget-view+json": {
       "model_id": "2b855c023c3b45ebb88f6c3a4d05f813",
       "version_major": 2,
       "version_minor": 0
      },
      "text/plain": [
       "  0%|          | 0/6 [00:00<?, ?it/s]"
      ]
     },
     "metadata": {},
     "output_type": "display_data"
    },
    {
     "name": "stderr",
     "output_type": "stream",
     "text": [
      "WARNING:pgmpy:PDAG has no faithful extension (= no oriented DAG with the same v-structures as PDAG). Remaining undirected PDAG edges oriented arbitrarily.\n"
     ]
    },
    {
     "data": {
      "image/png": "[encoded data removed]",
      "text/plain": [
       "<Figure size 640x480 with 1 Axes>"
      ]
     },
     "metadata": {},
     "output_type": "display_data"
    }
   ],
   "source": [
    "data = encoded_df.copy()\n",
    "pc = PC(data)\n",
    "learned_graph = pc.estimate(return_type='dag', significance_level=0.05, max_cond_vars=len(data.columns)-1)\n",
    "nx.draw_circular(\n",
    "    learned_graph,\n",
    "    with_labels=True,\n",
    "    node_size=4000,\n",
    "    font_size=16,  \n",
    "    font_color='white',\n",
    "    node_color='skyblue', \n",
    "    linewidths=2,  \n",
    "    edge_color='k'  \n",
    ")\n",
    "plt.show()\n"
   ]
  },
  {
   "cell_type": "markdown",
   "id": "3894b396",
   "metadata": {},
   "source": [
    "we devide the basis of the model on three methods, i do a pc and read everything about it and what it assumues and how it works and fully implelemnt it' limitations advatnages and what does the output sayss. pick a method come up with the graogh and what does it mean, weights? what are the weights."
   ]
  },
  {
   "cell_type": "code",
   "execution_count": null,
   "id": "606e6e21",
   "metadata": {},
   "outputs": [],
   "source": []
  }
 ],
 "metadata": {
  "kernelspec": {
   "display_name": "Python 3 (ipykernel)",
   "language": "python",
   "name": "python3"
  },
  "language_info": {
   "codemirror_mode": {
    "name": "ipython",
    "version": 3
   },
   "file_extension": ".py",
   "mimetype": "text/x-python",
   "name": "python",
   "nbconvert_exporter": "python",
   "pygments_lexer": "ipython3",
   "version": "3.11.5"
  }
 },
 "nbformat": 4,
 "nbformat_minor": 5
}
