{
 "cells": [
  {
   "cell_type": "code",
   "execution_count": 7,
   "id": "d695c40f",
   "metadata": {},
   "outputs": [],
   "source": [
    "import pandas as pd \n",
    "import numpy as np "
   ]
  },
  {
   "cell_type": "markdown",
   "id": "24955401",
   "metadata": {},
   "source": [
    "# 1. Loading the Dataset"
   ]
  },
  {
   "cell_type": "markdown",
   "id": "c4231811",
   "metadata": {},
   "source": [
    "Before applying the PC algorithm, we filter the dataset to focus only on the relevant data. This involves selecting data from specific years, experience levels, and other criteria that match our study's requirements.\n"
   ]
  },
  {
   "cell_type": "code",
   "execution_count": 8,
   "id": "1ea099b1",
   "metadata": {},
   "outputs": [
    {
     "data": {
      "text/html": [
       "<div>\n",
       "<style scoped>\n",
       "    .dataframe tbody tr th:only-of-type {\n",
       "        vertical-align: middle;\n",
       "    }\n",
       "\n",
       "    .dataframe tbody tr th {\n",
       "        vertical-align: top;\n",
       "    }\n",
       "\n",
       "    .dataframe thead th {\n",
       "        text-align: right;\n",
       "    }\n",
       "</style>\n",
       "<table border=\"1\" class=\"dataframe\">\n",
       "  <thead>\n",
       "    <tr style=\"text-align: right;\">\n",
       "      <th></th>\n",
       "      <th>work_year</th>\n",
       "      <th>experience_level</th>\n",
       "      <th>job_title</th>\n",
       "      <th>salary_in_usd</th>\n",
       "      <th>remote_ratio</th>\n",
       "      <th>company_size</th>\n",
       "    </tr>\n",
       "  </thead>\n",
       "  <tbody>\n",
       "    <tr>\n",
       "      <th>12</th>\n",
       "      <td>2024</td>\n",
       "      <td>MI</td>\n",
       "      <td>Data Analyst</td>\n",
       "      <td>112300</td>\n",
       "      <td>0</td>\n",
       "      <td>M</td>\n",
       "    </tr>\n",
       "    <tr>\n",
       "      <th>13</th>\n",
       "      <td>2024</td>\n",
       "      <td>MI</td>\n",
       "      <td>Data Analyst</td>\n",
       "      <td>75100</td>\n",
       "      <td>0</td>\n",
       "      <td>M</td>\n",
       "    </tr>\n",
       "    <tr>\n",
       "      <th>22</th>\n",
       "      <td>2024</td>\n",
       "      <td>SE</td>\n",
       "      <td>Machine Learning Engineer</td>\n",
       "      <td>190000</td>\n",
       "      <td>0</td>\n",
       "      <td>M</td>\n",
       "    </tr>\n",
       "    <tr>\n",
       "      <th>23</th>\n",
       "      <td>2024</td>\n",
       "      <td>SE</td>\n",
       "      <td>Machine Learning Engineer</td>\n",
       "      <td>100000</td>\n",
       "      <td>0</td>\n",
       "      <td>M</td>\n",
       "    </tr>\n",
       "    <tr>\n",
       "      <th>24</th>\n",
       "      <td>2024</td>\n",
       "      <td>MI</td>\n",
       "      <td>Data Scientist</td>\n",
       "      <td>150650</td>\n",
       "      <td>0</td>\n",
       "      <td>M</td>\n",
       "    </tr>\n",
       "  </tbody>\n",
       "</table>\n",
       "</div>"
      ],
      "text/plain": [
       "    work_year experience_level                  job_title  salary_in_usd  \\\n",
       "12       2024               MI               Data Analyst         112300   \n",
       "13       2024               MI               Data Analyst          75100   \n",
       "22       2024               SE  Machine Learning Engineer         190000   \n",
       "23       2024               SE  Machine Learning Engineer         100000   \n",
       "24       2024               MI             Data Scientist         150650   \n",
       "\n",
       "    remote_ratio company_size  \n",
       "12             0            M  \n",
       "13             0            M  \n",
       "22             0            M  \n",
       "23             0            M  \n",
       "24             0            M  "
      ]
     },
     "execution_count": 8,
     "metadata": {},
     "output_type": "execute_result"
    }
   ],
   "source": [
    "df = pd.read_csv('salaries.csv')\n",
    "filtered_df = df[\n",
    "    (df['work_year'].isin([2023, 2024])) & \n",
    "    (df['experience_level'].isin(['MI', 'SE'])) & \n",
    "    (df['employment_type'] == 'FT') & \n",
    "    (df['company_size'].isin(['L', 'M'])) & \n",
    "    (df['job_title'].isin(['Data Engineer', 'Data Scientist', 'Data Analyst', 'Machine Learning Engineer'])) & \n",
    "    (df['company_location'] == 'US') & \n",
    "    (df['employee_residence'] == 'US')\n",
    "]\n",
    "filtered_df = filtered_df.drop(columns=['salary_currency', 'salary'])\n",
    "accepted_remote_ratio = [0, 100]\n",
    "filtered_df = filtered_df[filtered_df['remote_ratio'].isin(accepted_remote_ratio)]\n",
    "filtered_df = filtered_df.drop(columns=['employee_residence', 'company_location', 'employment_type'])  \n",
    "filtered_df.head()"
   ]
  },
  {
   "cell_type": "code",
   "execution_count": 9,
   "id": "546efd49",
   "metadata": {},
   "outputs": [
    {
     "name": "stdout",
     "output_type": "stream",
     "text": [
      "       work_year experience_level                  job_title  salary_in_usd  \\\n",
      "174         2024               SE  Machine Learning Engineer         304000   \n",
      "269         2024               SE             Data Scientist         385000   \n",
      "345         2024               SE  Machine Learning Engineer         370000   \n",
      "361         2024               SE  Machine Learning Engineer         302900   \n",
      "362         2024               SE  Machine Learning Engineer         302900   \n",
      "...          ...              ...                        ...            ...   \n",
      "13891       2023               SE             Data Scientist         370000   \n",
      "13902       2023               SE  Machine Learning Engineer         323300   \n",
      "14070       2023               SE  Machine Learning Engineer         318300   \n",
      "14072       2023               SE               Data Analyst         385000   \n",
      "14502       2023               SE              Data Engineer         310000   \n",
      "\n",
      "       remote_ratio company_size  \n",
      "174               0            M  \n",
      "269             100            M  \n",
      "345               0            M  \n",
      "361               0            M  \n",
      "362               0            M  \n",
      "...             ...          ...  \n",
      "13891             0            M  \n",
      "13902             0            M  \n",
      "14070           100            M  \n",
      "14072             0            M  \n",
      "14502             0            M  \n",
      "\n",
      "[155 rows x 6 columns]\n"
     ]
    }
   ],
   "source": [
    "# Calculate IQR for the salary coloumn \n",
    "Q1 = filtered_df['salary_in_usd'].quantile(0.25)\n",
    "Q3 = filtered_df['salary_in_usd'].quantile(0.75)\n",
    "IQR = Q3 - Q1\n",
    "\n",
    "\n",
    "lower_bound = Q1 - 1.5 * IQR\n",
    "upper_bound = Q3 + 1.5 * IQR\n",
    "\n",
    "\n",
    "outliers = filtered_df[(filtered_df['salary_in_usd'] < lower_bound) | (filtered_df['salary_in_usd'] > upper_bound)]\n",
    "print(outliers)\n",
    "\n"
   ]
  },
  {
   "cell_type": "code",
   "execution_count": 10,
   "id": "3e48330b",
   "metadata": {},
   "outputs": [
    {
     "name": "stdout",
     "output_type": "stream",
     "text": [
      "Empty DataFrame\n",
      "Columns: [work_year, experience_level, job_title, salary_in_usd, remote_ratio, company_size]\n",
      "Index: []\n"
     ]
    }
   ],
   "source": [
    "filtered_df = filtered_df[(filtered_df['salary_in_usd'] >= lower_bound) & (filtered_df['salary_in_usd'] <= upper_bound)]\n",
    "outliers = filtered_df[(filtered_df['salary_in_usd'] < lower_bound) | (filtered_df['salary_in_usd'] > upper_bound)]\n",
    "print(outliers)"
   ]
  },
  {
   "cell_type": "code",
   "execution_count": 11,
   "id": "17b5f7ae",
   "metadata": {},
   "outputs": [],
   "source": [
    "filtered_df.to_csv('cleaned_salaries.csv', index=False)"
   ]
  },
  {
   "cell_type": "code",
   "execution_count": null,
   "id": "d1527899",
   "metadata": {},
   "outputs": [],
   "source": []
  }
 ],
 "metadata": {
  "kernelspec": {
   "display_name": "Python 3 (ipykernel)",
   "language": "python",
   "name": "python3"
  },
  "language_info": {
   "codemirror_mode": {
    "name": "ipython",
    "version": 3
   },
   "file_extension": ".py",
   "mimetype": "text/x-python",
   "name": "python",
   "nbconvert_exporter": "python",
   "pygments_lexer": "ipython3",
   "version": "3.11.5"
  }
 },
 "nbformat": 4,
 "nbformat_minor": 5
}
